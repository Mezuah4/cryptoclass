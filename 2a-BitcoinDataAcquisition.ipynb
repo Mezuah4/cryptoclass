{
 "cells": [
  {
   "cell_type": "markdown",
   "metadata": {},
   "source": [
    "# Bitcoin Approach - Using API Data"
   ]
  },
  {
   "cell_type": "markdown",
   "metadata": {},
   "source": [
    "## Preliminaries"
   ]
  },
  {
   "cell_type": "markdown",
   "metadata": {},
   "source": [
    "#### Import Libraries"
   ]
  },
  {
   "cell_type": "code",
   "execution_count": 1,
   "metadata": {
    "pycharm": {
     "name": "#%%\n"
    }
   },
   "outputs": [],
   "source": [
    "# Import Libraries\n",
    "\n",
    "# Data Management\n",
    "import pandas as pd\n",
    "import sqlite3\n",
    "\n",
    "# Data API Caller\n",
    "from utils.apiwrapper import APICaller, SuspChecker\n",
    "\n",
    "# Address Sampler\n",
    "from utils.nodescraper import AddressSampler"
   ]
  },
  {
   "cell_type": "markdown",
   "metadata": {},
   "source": [
    "## Data Acquisition"
   ]
  },
  {
   "cell_type": "markdown",
   "metadata": {},
   "source": [
    "#### Get Suspicious Wallet Addresses"
   ]
  },
  {
   "cell_type": "code",
   "execution_count": 2,
   "metadata": {
    "pycharm": {
     "name": "#%%\n"
    }
   },
   "outputs": [],
   "source": [
    "# # Load List\n",
    "# susp = pd.read_csv(\"data/2-btc/addresses/susp_addr.csv\", index_col=0).reset_index(drop=True)\n",
    "# susp"
   ]
  },
  {
   "cell_type": "code",
   "execution_count": 3,
   "metadata": {
    "pycharm": {
     "name": "#%%\n"
    }
   },
   "outputs": [],
   "source": [
    "# # Remove Duplicate Reports\n",
    "# susp = susp.drop_duplicates()\n",
    "# susp"
   ]
  },
  {
   "cell_type": "markdown",
   "metadata": {},
   "source": [
    "#### Get Non-Suspicious Wallet Addresses"
   ]
  },
  {
   "cell_type": "code",
   "execution_count": 4,
   "metadata": {
    "pycharm": {
     "name": "#%%\n"
    }
   },
   "outputs": [],
   "source": [
    "# # Import Block Start Heights\n",
    "# start_heights = pd.read_csv(\"data/2-btc/blockheights/starting_by_month.csv\")\n",
    "#\n",
    "# # Sample 1000 Addresses from Each Year\n",
    "# scraper = AddressSampler(\"mezuah4\", \"mengprojectpass\", start_heights)\n",
    "# list1 = scraper.sample_year(1000, 2020)\n",
    "# scraper = AddressSampler(\"mezuah4\", \"mengprojectpass\", start_heights)\n",
    "# list2 = scraper.sample_year(1000, 2021)\n",
    "# scraper = AddressSampler(\"mezuah4\", \"mengprojectpass\", start_heights)\n",
    "# list3 = scraper.sample_year(1000, 2022)\n",
    "#\n",
    "# # Concatenate Lists into DF\n",
    "# concat_list = list1 + list2 + list3\n",
    "# random_df = pd.DataFrame.from_records(concat_list)\n",
    "#\n",
    "# # Show Data\n",
    "# random_df"
   ]
  },
  {
   "cell_type": "code",
   "execution_count": 5,
   "metadata": {
    "pycharm": {
     "name": "#%%\n"
    }
   },
   "outputs": [],
   "source": [
    "# # Save List to CSV\n",
    "# random_df['Address'].to_csv('data/2-btc/addresses/random_addr.csv')"
   ]
  },
  {
   "cell_type": "code",
   "execution_count": 6,
   "metadata": {
    "pycharm": {
     "name": "#%%\n"
    }
   },
   "outputs": [],
   "source": [
    "# # Import Data\n",
    "# random_df = pd.read_csv(\"data/2-btc/addresses/random_addr.csv\")"
   ]
  },
  {
   "cell_type": "code",
   "execution_count": 7,
   "metadata": {
    "pycharm": {
     "name": "#%%\n"
    }
   },
   "outputs": [],
   "source": [
    "# # Sample 1500 Non-Reported Addresses\n",
    "#\n",
    "# # Initialize Checker\n",
    "# checker = SuspChecker()\n",
    "#\n",
    "# # Address List\n",
    "# address_list = []\n",
    "#\n",
    "# total = 0\n",
    "# while total < 1500:\n",
    "#\n",
    "#     # Sample Unique Rows Until All Are Non-Suspicious\n",
    "#     candidate = random_df.sample(1)['Address'].to_numpy()[0]\n",
    "#     while True:\n",
    "#         try:\n",
    "#             if(candidate in address_list) or checker.is_suspicious(candidate):\n",
    "#                 candidate = random_df.sample(1)['Address'].to_numpy()[0]\n",
    "#             else:\n",
    "#                 break\n",
    "#         except ValueError:\n",
    "#             print(candidate)\n",
    "#             candidate = random_df.sample(1)['Address'].to_numpy()[0]\n",
    "#             continue\n",
    "#\n",
    "#     address_list.append(candidate)\n",
    "#     total += 1\n",
    "#\n",
    "#     clear_output(wait=True)\n",
    "#     print(\"Total Found: \", total)\n",
    "#     print(\"Remaining: \", 1500 - total)"
   ]
  },
  {
   "cell_type": "code",
   "execution_count": 8,
   "metadata": {
    "pycharm": {
     "name": "#%%\n"
    }
   },
   "outputs": [],
   "source": [
    "# # Save List to CSV\n",
    "# non_susp = pd.DataFrame(address_list, columns=['non_susp_addr'])\n",
    "# non_susp.to_csv('data/2-btc/nonsusp_addr.csv')"
   ]
  },
  {
   "cell_type": "code",
   "execution_count": 9,
   "metadata": {
    "pycharm": {
     "name": "#%%\n"
    }
   },
   "outputs": [],
   "source": [
    "# non_susp = pd.read_csv(\"data/2-btc/addresses/nonsusp_addr.csv\", index_col=0)\n",
    "# non_susp"
   ]
  },
  {
   "cell_type": "markdown",
   "metadata": {},
   "source": [
    "#### Get Address Information"
   ]
  },
  {
   "cell_type": "code",
   "execution_count": 10,
   "metadata": {
    "pycharm": {
     "name": "#%%\n"
    }
   },
   "outputs": [],
   "source": [
    "# non_susp = pd.read_csv(\"data/2-btc/addresses/nonsusp_addr.csv\", index_col=0)\n",
    "# susp = pd.read_csv(\"data/2-btc/address_data/model_data.csv\", index_col=0)\n",
    "# susp = susp[susp['Class'] == 1]\n",
    "# susp = susp[susp['Total_Rec'] > 0].rename(columns={\"Address\":\"susp_addr\"})"
   ]
  },
  {
   "cell_type": "code",
   "execution_count": 11,
   "metadata": {
    "pycharm": {
     "name": "#%%\n"
    }
   },
   "outputs": [],
   "source": [
    "# # Suspicious Addresses\n",
    "# caller = APICaller(delay=10, db_path=\"data/2-btc/address_data/susp.db\")\n",
    "# caller.extract_info(list(susp['susp_addr']))"
   ]
  },
  {
   "cell_type": "code",
   "execution_count": 12,
   "metadata": {
    "pycharm": {
     "name": "#%%\n"
    }
   },
   "outputs": [],
   "source": [
    "# # Non-Suspicious Addresses\n",
    "# caller = APICaller(delay=10, db_path=\"data/2-btc/address_data/non_susp.db\")\n",
    "# susp_info = caller.extract_info(list(non_susp['non_susp_addr'][1122:]))"
   ]
  },
  {
   "cell_type": "markdown",
   "metadata": {},
   "source": [
    "#### Merge Dataframes"
   ]
  },
  {
   "cell_type": "code",
   "execution_count": 13,
   "metadata": {
    "pycharm": {
     "name": "#%%\n"
    }
   },
   "outputs": [],
   "source": [
    "# conn = sqlite3.connect(\"data/2-btc/address_data/susp.db\")\n",
    "# susp_df = pd.read_sql_query(\"SELECT * FROM addr\", conn)\n",
    "# susp_df[\"Class\"] = 1\n",
    "# conn.close()\n",
    "#\n",
    "# conn = sqlite3.connect(\"data/2-btc/address_data/non_susp.db\")\n",
    "# non_susp_df = pd.read_sql_query(\"SELECT * FROM addr\", conn)\n",
    "# non_susp_df[\"Class\"] = 0\n",
    "# conn.close()\n",
    "#\n",
    "# final_df = pd.concat([susp_df, non_susp_df]).sample(frac=1).reset_index(drop=True)\n",
    "# final_df"
   ]
  },
  {
   "cell_type": "markdown",
   "metadata": {},
   "source": [
    "#### Save Dataset"
   ]
  },
  {
   "cell_type": "code",
   "execution_count": 14,
   "metadata": {
    "pycharm": {
     "name": "#%%\n"
    }
   },
   "outputs": [],
   "source": [
    "# final_df.to_csv('data/2-btc/address_data/model_data.csv')"
   ]
  },
  {
   "cell_type": "markdown",
   "metadata": {},
   "source": [
    "#### Get Addresses for Analysis"
   ]
  },
  {
   "cell_type": "code",
   "execution_count": 15,
   "metadata": {
    "pycharm": {
     "name": "#%%\n"
    }
   },
   "outputs": [],
   "source": [
    "# # Import Block Start Heights\n",
    "# start_heights = pd.read_csv(\"data/2-btc/blockheights/starting_by_month.csv\")\n",
    "#\n",
    "# # Initialize Scraper\n",
    "# scraper = AddressSampler(\"mezuah4\", \"mengprojectpass\", start_heights)\n",
    "#\n",
    "# # Sample 1000 Addresses from Each Month\n",
    "# lists = []\n",
    "# for i in range(1, 13):\n",
    "#     scraper.sample_month(1000, i, 2022)\n",
    "#\n",
    "# final_list = scraper.get_list()\n",
    "#\n",
    "# analysis_df = pd.DataFrame.from_records(final_list)"
   ]
  },
  {
   "cell_type": "code",
   "execution_count": 16,
   "metadata": {
    "pycharm": {
     "name": "#%%\n"
    }
   },
   "outputs": [],
   "source": [
    "# # Save Address List\n",
    "# analysis_df.to_csv(\"data/2-btc/addresses/anal_addr.csv\")"
   ]
  },
  {
   "cell_type": "markdown",
   "metadata": {},
   "source": [
    "#### Extract Address Information"
   ]
  },
  {
   "cell_type": "code",
   "execution_count": 17,
   "metadata": {
    "pycharm": {
     "name": "#%%\n"
    }
   },
   "outputs": [],
   "source": [
    "# analysis_df = pd.read_csv(\"data/2-btc/addresses/anal_addr.csv\", index_col=0)"
   ]
  },
  {
   "cell_type": "code",
   "execution_count": 18,
   "metadata": {
    "pycharm": {
     "name": "#%%\n"
    }
   },
   "outputs": [],
   "source": [
    "# # Analysis Addresses\n",
    "# caller = APICaller(delay=10, db_path=\"data/2-btc/address_data/anal.db\")\n",
    "# caller.extract_info(addresses=list(analysis_df['Address'])[6748:],\n",
    "#                     months=list(analysis_df['Month'])[6748:])"
   ]
  },
  {
   "cell_type": "markdown",
   "metadata": {},
   "source": [
    "#### Save Dataset"
   ]
  },
  {
   "cell_type": "code",
   "execution_count": 37,
   "metadata": {
    "pycharm": {
     "name": "#%%\n"
    }
   },
   "outputs": [],
   "source": [
    "# conn = sqlite3.connect(\"data/2-btc/address_data/anal.db\")\n",
    "# anal_df = pd.read_sql_query(\"SELECT * FROM addr\", conn)\n",
    "# conn.close()\n",
    "#\n",
    "# anal_df.to_csv(\"data/2-btc/address_data/anal_data.csv\")"
   ]
  }
 ],
 "metadata": {
  "kernelspec": {
   "display_name": "Python 3 (ipykernel)",
   "language": "python",
   "name": "python3"
  },
  "language_info": {
   "codemirror_mode": {
    "name": "ipython",
    "version": 3
   },
   "file_extension": ".py",
   "mimetype": "text/x-python",
   "name": "python",
   "nbconvert_exporter": "python",
   "pygments_lexer": "ipython3",
   "version": "3.8.0"
  }
 },
 "nbformat": 4,
 "nbformat_minor": 1
}